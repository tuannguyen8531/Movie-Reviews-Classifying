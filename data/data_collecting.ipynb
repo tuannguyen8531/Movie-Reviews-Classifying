{
 "cells": [
  {
   "cell_type": "code",
   "execution_count": 1,
   "metadata": {},
   "outputs": [
    {
     "data": {
      "text/plain": [
       "'d:\\\\Python\\\\data\\\\venv\\\\Lib\\\\site-packages\\\\chromedriver_autoinstaller\\\\123\\\\chromedriver.exe'"
      ]
     },
     "execution_count": 1,
     "metadata": {},
     "output_type": "execute_result"
    }
   ],
   "source": [
    "import pandas\n",
    "import time\n",
    "import chromedriver_autoinstaller\n",
    "from selenium import webdriver\n",
    "from selenium.webdriver.common.by import By\n",
    "from selenium.webdriver.support.ui import WebDriverWait\n",
    "from selenium.webdriver.support import expected_conditions as EC\n",
    "from bs4 import BeautifulSoup\n",
    "\n",
    "chromedriver_autoinstaller.install()"
   ]
  },
  {
   "cell_type": "code",
   "execution_count": 2,
   "metadata": {},
   "outputs": [],
   "source": [
    "def read_urls_by_index(file_path, index):\n",
    "    urls = []\n",
    "    with open(file_path, \"r\") as file:\n",
    "        lines = file.readlines()\n",
    "        current_index = 0\n",
    "        for line in lines:\n",
    "            line = line.strip()\n",
    "            if line.isdigit():\n",
    "                current_index = int(line)\n",
    "            elif current_index == index:\n",
    "                urls.append(line)\n",
    "            elif current_index > index:\n",
    "                break\n",
    "    return urls"
   ]
  },
  {
   "cell_type": "code",
   "execution_count": 6,
   "metadata": {},
   "outputs": [
    {
     "name": "stdout",
     "output_type": "stream",
     "text": [
      "['https://www.imdb.com/title/tt0111161/reviews?sort=curated&dir=desc&ratingFilter=', 'https://www.imdb.com/title/tt0068646/reviews?sort=curated&dir=desc&ratingFilter=', 'https://www.imdb.com/title/tt0468569/reviews?sort=curated&dir=desc&ratingFilter=', 'https://www.imdb.com/title/tt0071562/reviews?sort=curated&dir=desc&ratingFilter=', 'https://www.imdb.com/title/tt0050083/reviews?sort=curated&dir=desc&ratingFilter=', 'https://www.imdb.com/title/tt0108052/reviews?sort=curated&dir=desc&ratingFilter=', 'https://www.imdb.com/title/tt0167260/reviews?sort=curated&dir=desc&ratingFilter=', 'https://www.imdb.com/title/tt0110912/reviews?sort=curated&dir=desc&ratingFilter=', 'https://www.imdb.com/title/tt0120737/reviews?sort=curated&dir=desc&ratingFilter=', 'https://www.imdb.com/title/tt0060196/reviews?sort=curated&dir=desc&ratingFilter=']\n"
     ]
    }
   ],
   "source": [
    "index = 0\n",
    "movie_urls = read_urls_by_index(\"urls.txt\", index)\n",
    "print(movie_urls)"
   ]
  },
  {
   "cell_type": "code",
   "execution_count": 7,
   "metadata": {},
   "outputs": [],
   "source": [
    "def add_rating_filler(urls):\n",
    "    urls_with_ratings = []\n",
    "    for url in urls:\n",
    "        for i in range(1, 10):\n",
    "            temp = url + str(i)\n",
    "            urls_with_ratings.append(temp)\n",
    "    return urls_with_ratings"
   ]
  },
  {
   "cell_type": "code",
   "execution_count": 9,
   "metadata": {},
   "outputs": [
    {
     "name": "stdout",
     "output_type": "stream",
     "text": [
      "['https://www.imdb.com/title/tt0111161/reviews?sort=curated&dir=desc&ratingFilter=1', 'https://www.imdb.com/title/tt0111161/reviews?sort=curated&dir=desc&ratingFilter=2', 'https://www.imdb.com/title/tt0111161/reviews?sort=curated&dir=desc&ratingFilter=3', 'https://www.imdb.com/title/tt0111161/reviews?sort=curated&dir=desc&ratingFilter=4', 'https://www.imdb.com/title/tt0111161/reviews?sort=curated&dir=desc&ratingFilter=5', 'https://www.imdb.com/title/tt0111161/reviews?sort=curated&dir=desc&ratingFilter=6', 'https://www.imdb.com/title/tt0111161/reviews?sort=curated&dir=desc&ratingFilter=7', 'https://www.imdb.com/title/tt0111161/reviews?sort=curated&dir=desc&ratingFilter=8', 'https://www.imdb.com/title/tt0111161/reviews?sort=curated&dir=desc&ratingFilter=9', 'https://www.imdb.com/title/tt0068646/reviews?sort=curated&dir=desc&ratingFilter=1', 'https://www.imdb.com/title/tt0068646/reviews?sort=curated&dir=desc&ratingFilter=2', 'https://www.imdb.com/title/tt0068646/reviews?sort=curated&dir=desc&ratingFilter=3', 'https://www.imdb.com/title/tt0068646/reviews?sort=curated&dir=desc&ratingFilter=4', 'https://www.imdb.com/title/tt0068646/reviews?sort=curated&dir=desc&ratingFilter=5', 'https://www.imdb.com/title/tt0068646/reviews?sort=curated&dir=desc&ratingFilter=6', 'https://www.imdb.com/title/tt0068646/reviews?sort=curated&dir=desc&ratingFilter=7', 'https://www.imdb.com/title/tt0068646/reviews?sort=curated&dir=desc&ratingFilter=8', 'https://www.imdb.com/title/tt0068646/reviews?sort=curated&dir=desc&ratingFilter=9', 'https://www.imdb.com/title/tt0468569/reviews?sort=curated&dir=desc&ratingFilter=1', 'https://www.imdb.com/title/tt0468569/reviews?sort=curated&dir=desc&ratingFilter=2', 'https://www.imdb.com/title/tt0468569/reviews?sort=curated&dir=desc&ratingFilter=3', 'https://www.imdb.com/title/tt0468569/reviews?sort=curated&dir=desc&ratingFilter=4', 'https://www.imdb.com/title/tt0468569/reviews?sort=curated&dir=desc&ratingFilter=5', 'https://www.imdb.com/title/tt0468569/reviews?sort=curated&dir=desc&ratingFilter=6', 'https://www.imdb.com/title/tt0468569/reviews?sort=curated&dir=desc&ratingFilter=7', 'https://www.imdb.com/title/tt0468569/reviews?sort=curated&dir=desc&ratingFilter=8', 'https://www.imdb.com/title/tt0468569/reviews?sort=curated&dir=desc&ratingFilter=9', 'https://www.imdb.com/title/tt0071562/reviews?sort=curated&dir=desc&ratingFilter=1', 'https://www.imdb.com/title/tt0071562/reviews?sort=curated&dir=desc&ratingFilter=2', 'https://www.imdb.com/title/tt0071562/reviews?sort=curated&dir=desc&ratingFilter=3', 'https://www.imdb.com/title/tt0071562/reviews?sort=curated&dir=desc&ratingFilter=4', 'https://www.imdb.com/title/tt0071562/reviews?sort=curated&dir=desc&ratingFilter=5', 'https://www.imdb.com/title/tt0071562/reviews?sort=curated&dir=desc&ratingFilter=6', 'https://www.imdb.com/title/tt0071562/reviews?sort=curated&dir=desc&ratingFilter=7', 'https://www.imdb.com/title/tt0071562/reviews?sort=curated&dir=desc&ratingFilter=8', 'https://www.imdb.com/title/tt0071562/reviews?sort=curated&dir=desc&ratingFilter=9', 'https://www.imdb.com/title/tt0050083/reviews?sort=curated&dir=desc&ratingFilter=1', 'https://www.imdb.com/title/tt0050083/reviews?sort=curated&dir=desc&ratingFilter=2', 'https://www.imdb.com/title/tt0050083/reviews?sort=curated&dir=desc&ratingFilter=3', 'https://www.imdb.com/title/tt0050083/reviews?sort=curated&dir=desc&ratingFilter=4', 'https://www.imdb.com/title/tt0050083/reviews?sort=curated&dir=desc&ratingFilter=5', 'https://www.imdb.com/title/tt0050083/reviews?sort=curated&dir=desc&ratingFilter=6', 'https://www.imdb.com/title/tt0050083/reviews?sort=curated&dir=desc&ratingFilter=7', 'https://www.imdb.com/title/tt0050083/reviews?sort=curated&dir=desc&ratingFilter=8', 'https://www.imdb.com/title/tt0050083/reviews?sort=curated&dir=desc&ratingFilter=9', 'https://www.imdb.com/title/tt0108052/reviews?sort=curated&dir=desc&ratingFilter=1', 'https://www.imdb.com/title/tt0108052/reviews?sort=curated&dir=desc&ratingFilter=2', 'https://www.imdb.com/title/tt0108052/reviews?sort=curated&dir=desc&ratingFilter=3', 'https://www.imdb.com/title/tt0108052/reviews?sort=curated&dir=desc&ratingFilter=4', 'https://www.imdb.com/title/tt0108052/reviews?sort=curated&dir=desc&ratingFilter=5', 'https://www.imdb.com/title/tt0108052/reviews?sort=curated&dir=desc&ratingFilter=6', 'https://www.imdb.com/title/tt0108052/reviews?sort=curated&dir=desc&ratingFilter=7', 'https://www.imdb.com/title/tt0108052/reviews?sort=curated&dir=desc&ratingFilter=8', 'https://www.imdb.com/title/tt0108052/reviews?sort=curated&dir=desc&ratingFilter=9', 'https://www.imdb.com/title/tt0167260/reviews?sort=curated&dir=desc&ratingFilter=1', 'https://www.imdb.com/title/tt0167260/reviews?sort=curated&dir=desc&ratingFilter=2', 'https://www.imdb.com/title/tt0167260/reviews?sort=curated&dir=desc&ratingFilter=3', 'https://www.imdb.com/title/tt0167260/reviews?sort=curated&dir=desc&ratingFilter=4', 'https://www.imdb.com/title/tt0167260/reviews?sort=curated&dir=desc&ratingFilter=5', 'https://www.imdb.com/title/tt0167260/reviews?sort=curated&dir=desc&ratingFilter=6', 'https://www.imdb.com/title/tt0167260/reviews?sort=curated&dir=desc&ratingFilter=7', 'https://www.imdb.com/title/tt0167260/reviews?sort=curated&dir=desc&ratingFilter=8', 'https://www.imdb.com/title/tt0167260/reviews?sort=curated&dir=desc&ratingFilter=9', 'https://www.imdb.com/title/tt0110912/reviews?sort=curated&dir=desc&ratingFilter=1', 'https://www.imdb.com/title/tt0110912/reviews?sort=curated&dir=desc&ratingFilter=2', 'https://www.imdb.com/title/tt0110912/reviews?sort=curated&dir=desc&ratingFilter=3', 'https://www.imdb.com/title/tt0110912/reviews?sort=curated&dir=desc&ratingFilter=4', 'https://www.imdb.com/title/tt0110912/reviews?sort=curated&dir=desc&ratingFilter=5', 'https://www.imdb.com/title/tt0110912/reviews?sort=curated&dir=desc&ratingFilter=6', 'https://www.imdb.com/title/tt0110912/reviews?sort=curated&dir=desc&ratingFilter=7', 'https://www.imdb.com/title/tt0110912/reviews?sort=curated&dir=desc&ratingFilter=8', 'https://www.imdb.com/title/tt0110912/reviews?sort=curated&dir=desc&ratingFilter=9', 'https://www.imdb.com/title/tt0120737/reviews?sort=curated&dir=desc&ratingFilter=1', 'https://www.imdb.com/title/tt0120737/reviews?sort=curated&dir=desc&ratingFilter=2', 'https://www.imdb.com/title/tt0120737/reviews?sort=curated&dir=desc&ratingFilter=3', 'https://www.imdb.com/title/tt0120737/reviews?sort=curated&dir=desc&ratingFilter=4', 'https://www.imdb.com/title/tt0120737/reviews?sort=curated&dir=desc&ratingFilter=5', 'https://www.imdb.com/title/tt0120737/reviews?sort=curated&dir=desc&ratingFilter=6', 'https://www.imdb.com/title/tt0120737/reviews?sort=curated&dir=desc&ratingFilter=7', 'https://www.imdb.com/title/tt0120737/reviews?sort=curated&dir=desc&ratingFilter=8', 'https://www.imdb.com/title/tt0120737/reviews?sort=curated&dir=desc&ratingFilter=9', 'https://www.imdb.com/title/tt0060196/reviews?sort=curated&dir=desc&ratingFilter=1', 'https://www.imdb.com/title/tt0060196/reviews?sort=curated&dir=desc&ratingFilter=2', 'https://www.imdb.com/title/tt0060196/reviews?sort=curated&dir=desc&ratingFilter=3', 'https://www.imdb.com/title/tt0060196/reviews?sort=curated&dir=desc&ratingFilter=4', 'https://www.imdb.com/title/tt0060196/reviews?sort=curated&dir=desc&ratingFilter=5', 'https://www.imdb.com/title/tt0060196/reviews?sort=curated&dir=desc&ratingFilter=6', 'https://www.imdb.com/title/tt0060196/reviews?sort=curated&dir=desc&ratingFilter=7', 'https://www.imdb.com/title/tt0060196/reviews?sort=curated&dir=desc&ratingFilter=8', 'https://www.imdb.com/title/tt0060196/reviews?sort=curated&dir=desc&ratingFilter=9']\n",
      "90\n"
     ]
    }
   ],
   "source": [
    "urls = add_rating_filler(movie_urls)\n",
    "print(urls)\n",
    "print(len(urls))"
   ]
  },
  {
   "cell_type": "code",
   "execution_count": null,
   "metadata": {},
   "outputs": [],
   "source": [
    "driver = webdriver.Chrome()\n",
    "all_texts = []\n",
    "all_ratings = []"
   ]
  },
  {
   "cell_type": "code",
   "execution_count": null,
   "metadata": {},
   "outputs": [],
   "source": [
    "for url in urls:\n",
    "    driver.get(url)\n",
    "\n",
    "    while True:\n",
    "        try:\n",
    "            load_more_button = WebDriverWait(driver, 10).until(\n",
    "                EC.element_to_be_clickable((By.CLASS_NAME, \"ipl-load-more__button\"))\n",
    "            )\n",
    "            load_more_button.click()\n",
    "            WebDriverWait(driver, 5).until(\n",
    "                EC.staleness_of(load_more_button)\n",
    "            )\n",
    "        except:\n",
    "            break\n",
    "    \n",
    "    html = driver.page_source\n",
    "    soup = BeautifulSoup(html, \"html.parser\")\n",
    "    reviews = soup.find_all(\"div\", class_=\"lister-item\")\n",
    "    for review in reviews:\n",
    "        review_text = review.find('div', class_='content').find('div', class_='show-more__control').text.strip()\n",
    "        rating_element = review.find('span', class_='rating-other-user-rating')\n",
    "        if rating_element:\n",
    "            rating = rating_element.find(\"span\").text.strip()\n",
    "        else:\n",
    "            rating = \"No rating\"\n",
    "        all_texts.append(review_text)\n",
    "        all_ratings.append(rating)\n",
    "        time.sleep(0.5)"
   ]
  },
  {
   "cell_type": "code",
   "execution_count": null,
   "metadata": {},
   "outputs": [],
   "source": [
    "driver.quit()"
   ]
  },
  {
   "cell_type": "code",
   "execution_count": null,
   "metadata": {},
   "outputs": [],
   "source": [
    "tsv_file = \"./reviews\" + str(index) + \".tsv\"\n",
    "\n",
    "all_texts_processed = [text.replace(\"\\n\", \" \") for text in all_texts]\n",
    "\n",
    "with open(tsv_file, \"w\", encoding=\"utf-8\") as file:\n",
    "    file.write(\"sentiment\\treview\\n\")\n",
    "    for rating, text in zip(all_ratings, all_texts_processed):\n",
    "        file.write(f\"{int(rating)}\\t{str(text)}\\n\")"
   ]
  }
 ],
 "metadata": {
  "kernelspec": {
   "display_name": "venv",
   "language": "python",
   "name": "python3"
  },
  "language_info": {
   "codemirror_mode": {
    "name": "ipython",
    "version": 3
   },
   "file_extension": ".py",
   "mimetype": "text/x-python",
   "name": "python",
   "nbconvert_exporter": "python",
   "pygments_lexer": "ipython3",
   "version": "3.12.0"
  }
 },
 "nbformat": 4,
 "nbformat_minor": 2
}
