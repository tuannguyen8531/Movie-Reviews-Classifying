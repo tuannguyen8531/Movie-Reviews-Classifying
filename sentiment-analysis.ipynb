{
 "cells": [
  {
   "cell_type": "code",
   "execution_count": null,
   "id": "bc02d493",
   "metadata": {
    "_cell_guid": "b1076dfc-b9ad-4769-8c92-a6c4dae69d19",
    "_uuid": "8f2839f25d086af736a60e9eeb907d3b93b6e0e5",
    "execution": {
     "iopub.execute_input": "2024-04-09T11:33:05.893885Z",
     "iopub.status.busy": "2024-04-09T11:33:05.893169Z",
     "iopub.status.idle": "2024-04-09T11:33:06.614997Z",
     "shell.execute_reply": "2024-04-09T11:33:06.614108Z"
    },
    "papermill": {
     "duration": 0.735001,
     "end_time": "2024-04-09T11:33:06.617144",
     "exception": false,
     "start_time": "2024-04-09T11:33:05.882143",
     "status": "completed"
    },
    "tags": []
   },
   "outputs": [],
   "source": [
    "import numpy as np\n",
    "import pandas as pd"
   ]
  },
  {
   "cell_type": "code",
   "execution_count": 2,
   "id": "11a82270",
   "metadata": {
    "execution": {
     "iopub.execute_input": "2024-04-09T11:33:06.637244Z",
     "iopub.status.busy": "2024-04-09T11:33:06.636888Z",
     "iopub.status.idle": "2024-04-09T11:33:08.294877Z",
     "shell.execute_reply": "2024-04-09T11:33:08.293930Z"
    },
    "papermill": {
     "duration": 1.670257,
     "end_time": "2024-04-09T11:33:08.297000",
     "exception": false,
     "start_time": "2024-04-09T11:33:06.626743",
     "status": "completed"
    },
    "tags": []
   },
   "outputs": [
    {
     "data": {
      "text/html": [
       "<div>\n",
       "<style scoped>\n",
       "    .dataframe tbody tr th:only-of-type {\n",
       "        vertical-align: middle;\n",
       "    }\n",
       "\n",
       "    .dataframe tbody tr th {\n",
       "        vertical-align: top;\n",
       "    }\n",
       "\n",
       "    .dataframe thead th {\n",
       "        text-align: right;\n",
       "    }\n",
       "</style>\n",
       "<table border=\"1\" class=\"dataframe\">\n",
       "  <thead>\n",
       "    <tr style=\"text-align: right;\">\n",
       "      <th></th>\n",
       "      <th>review</th>\n",
       "      <th>sentiment</th>\n",
       "    </tr>\n",
       "  </thead>\n",
       "  <tbody>\n",
       "    <tr>\n",
       "      <th>0</th>\n",
       "      <td>One of the other reviewers has mentioned that ...</td>\n",
       "      <td>positive</td>\n",
       "    </tr>\n",
       "    <tr>\n",
       "      <th>1</th>\n",
       "      <td>A wonderful little production. &lt;br /&gt;&lt;br /&gt;The...</td>\n",
       "      <td>positive</td>\n",
       "    </tr>\n",
       "    <tr>\n",
       "      <th>2</th>\n",
       "      <td>I thought this was a wonderful way to spend ti...</td>\n",
       "      <td>positive</td>\n",
       "    </tr>\n",
       "    <tr>\n",
       "      <th>3</th>\n",
       "      <td>Basically there's a family where a little boy ...</td>\n",
       "      <td>negative</td>\n",
       "    </tr>\n",
       "    <tr>\n",
       "      <th>4</th>\n",
       "      <td>Petter Mattei's \"Love in the Time of Money\" is...</td>\n",
       "      <td>positive</td>\n",
       "    </tr>\n",
       "  </tbody>\n",
       "</table>\n",
       "</div>"
      ],
      "text/plain": [
       "                                              review sentiment\n",
       "0  One of the other reviewers has mentioned that ...  positive\n",
       "1  A wonderful little production. <br /><br />The...  positive\n",
       "2  I thought this was a wonderful way to spend ti...  positive\n",
       "3  Basically there's a family where a little boy ...  negative\n",
       "4  Petter Mattei's \"Love in the Time of Money\" is...  positive"
      ]
     },
     "execution_count": 2,
     "metadata": {},
     "output_type": "execute_result"
    }
   ],
   "source": [
    "train_fname = './dataset/IMDB Dataset.csv'\n",
    "df_train = pd.read_csv(train_fname)\n",
    "df_train.head()"
   ]
  },
  {
   "cell_type": "code",
   "execution_count": 3,
   "id": "d9ccebaf",
   "metadata": {
    "execution": {
     "iopub.execute_input": "2024-04-09T11:33:08.318498Z",
     "iopub.status.busy": "2024-04-09T11:33:08.318183Z",
     "iopub.status.idle": "2024-04-09T11:33:08.336815Z",
     "shell.execute_reply": "2024-04-09T11:33:08.336032Z"
    },
    "papermill": {
     "duration": 0.031338,
     "end_time": "2024-04-09T11:33:08.338649",
     "exception": false,
     "start_time": "2024-04-09T11:33:08.307311",
     "status": "completed"
    },
    "tags": []
   },
   "outputs": [
    {
     "data": {
      "text/plain": [
       "sentiment\n",
       "positive    25000\n",
       "negative    25000\n",
       "Name: count, dtype: int64"
      ]
     },
     "execution_count": 3,
     "metadata": {},
     "output_type": "execute_result"
    }
   ],
   "source": [
    "import matplotlib.pyplot as plt\n",
    "df_train['sentiment'].value_counts()"
   ]
  },
  {
   "cell_type": "code",
   "execution_count": 4,
   "id": "83a0251d",
   "metadata": {
    "execution": {
     "iopub.execute_input": "2024-04-09T11:33:08.358728Z",
     "iopub.status.busy": "2024-04-09T11:33:08.358463Z",
     "iopub.status.idle": "2024-04-09T11:33:08.619627Z",
     "shell.execute_reply": "2024-04-09T11:33:08.618802Z"
    },
    "papermill": {
     "duration": 0.273476,
     "end_time": "2024-04-09T11:33:08.621706",
     "exception": false,
     "start_time": "2024-04-09T11:33:08.348230",
     "status": "completed"
    },
    "tags": []
   },
   "outputs": [
    {
     "data": {
      "text/plain": [
       "Text(0.5, 0, 'Sentiment')"
      ]
     },
     "execution_count": 4,
     "metadata": {},
     "output_type": "execute_result"
    },
    {
     "data": {
      "image/png": "[encoded data removed]",
      "text/plain": [
       "<Figure size 1000x500 with 1 Axes>"
      ]
     },
     "metadata": {},
     "output_type": "display_data"
    }
   ],
   "source": [
    "ax = df_train['sentiment'].value_counts().sort_index().plot(kind='bar', title='Counts of sentiments', figsize=(10, 5))\n",
    "ax.set_xlabel('Sentiment')"
   ]
  },
  {
   "cell_type": "code",
   "execution_count": 5,
   "id": "60c8f953",
   "metadata": {
    "execution": {
     "iopub.execute_input": "2024-04-09T11:33:08.643355Z",
     "iopub.status.busy": "2024-04-09T11:33:08.643076Z",
     "iopub.status.idle": "2024-04-09T11:33:17.234347Z",
     "shell.execute_reply": "2024-04-09T11:33:17.233546Z"
    },
    "papermill": {
     "duration": 8.604806,
     "end_time": "2024-04-09T11:33:17.236657",
     "exception": false,
     "start_time": "2024-04-09T11:33:08.631851",
     "status": "completed"
    },
    "tags": []
   },
   "outputs": [],
   "source": [
    "import re\n",
    "import nltk\n",
    "import spacy\n",
    "import spacy.cli\n",
    "\n",
    "from nltk.tokenize import word_tokenize\n",
    "from nltk.stem import WordNetLemmatizer\n",
    "from nltk.corpus import stopwords"
   ]
  },
  {
   "cell_type": "code",
   "execution_count": 6,
   "id": "a999a025",
   "metadata": {
    "execution": {
     "iopub.execute_input": "2024-04-09T11:33:17.260245Z",
     "iopub.status.busy": "2024-04-09T11:33:17.259367Z",
     "iopub.status.idle": "2024-04-09T11:33:18.648472Z",
     "shell.execute_reply": "2024-04-09T11:33:18.646894Z"
    },
    "papermill": {
     "duration": 1.40225,
     "end_time": "2024-04-09T11:33:18.650843",
     "exception": false,
     "start_time": "2024-04-09T11:33:17.248593",
     "status": "completed"
    },
    "tags": []
   },
   "outputs": [
    {
     "name": "stdout",
     "output_type": "stream",
     "text": [
      "[nltk_data] Downloading package punkt to /usr/share/nltk_data...\n",
      "[nltk_data]   Package punkt is already up-to-date!\n",
      "[nltk_data] Downloading package wordnet to /usr/share/nltk_data...\n",
      "[nltk_data]   Package wordnet is already up-to-date!\n",
      "[nltk_data] Downloading package stopwords to /usr/share/nltk_data...\n",
      "[nltk_data]   Package stopwords is already up-to-date!\n"
     ]
    }
   ],
   "source": [
    "nltk.download('punkt')\n",
    "nltk.download('wordnet')\n",
    "nltk.download('stopwords')\n",
    "\n",
    "if not spacy.util.is_package(\"en_core_web_sm\"):\n",
    "    spacy.cli.download(\"en_core_web_sm\")\n",
    "nlp = spacy.load(\"en_core_web_sm\")"
   ]
  },
  {
   "cell_type": "code",
   "execution_count": 8,
   "id": "24ad1d4b",
   "metadata": {
    "execution": {
     "iopub.execute_input": "2024-04-09T11:33:19.967284Z",
     "iopub.status.busy": "2024-04-09T11:33:19.966629Z",
     "iopub.status.idle": "2024-04-09T11:33:21.221239Z",
     "shell.execute_reply": "2024-04-09T11:33:21.220445Z"
    },
    "papermill": {
     "duration": 1.26896,
     "end_time": "2024-04-09T11:33:21.223555",
     "exception": false,
     "start_time": "2024-04-09T11:33:19.954595",
     "status": "completed"
    },
    "tags": []
   },
   "outputs": [],
   "source": [
    "lemmatizer = WordNetLemmatizer()\n",
    "nlp = spacy.load(\"en_core_web_sm\")\n",
    "stop_words = set(stopwords.words('english'))\n",
    "\n",
    "def clean_text(text):\n",
    "    text = text.lower()\n",
    "    text = re.sub('[^a-zA-Z]', ' ', text)\n",
    "    text = re.sub(r'\\s+', ' ', text)\n",
    "\n",
    "    words = word_tokenize(text)\n",
    "\n",
    "    filtered_words = [word for word in words if not word in stop_words and len(word) > 3]\n",
    "    lemmas = []\n",
    "    for word in filtered_words:\n",
    "        lemma = lemmatizer.lemmatize(word, pos='v')\n",
    "        lemmas.append(lemma)\n",
    "    sentence = ' '.join(lemmas)\n",
    "    doc = nlp(sentence)\n",
    "    lemmas = [token.lemma_ for token in doc]\n",
    "\n",
    "    return lemmas"
   ]
  },
  {
   "cell_type": "code",
   "execution_count": 9,
   "id": "64e1aa8e",
   "metadata": {
    "execution": {
     "iopub.execute_input": "2024-04-09T11:33:21.246484Z",
     "iopub.status.busy": "2024-04-09T11:33:21.246153Z",
     "iopub.status.idle": "2024-04-09T11:33:23.371217Z",
     "shell.execute_reply": "2024-04-09T11:33:23.370202Z"
    },
    "papermill": {
     "duration": 2.138817,
     "end_time": "2024-04-09T11:33:23.373370",
     "exception": false,
     "start_time": "2024-04-09T11:33:21.234553",
     "status": "completed"
    },
    "tags": []
   },
   "outputs": [
    {
     "name": "stdout",
     "output_type": "stream",
     "text": [
      "One of the other reviewers has mentioned that after watching just 1 Oz episode you'll be hooked. They are right, as this is exactly what happened with me.<br /><br />The first thing that struck me about Oz was its brutality and unflinching scenes of violence, which set in right from the word GO. Trust me, this is not a show for the faint hearted or timid. This show pulls no punches with regards to drugs, sex or violence. Its is hardcore, in the classic use of the word.<br /><br />It is called OZ as that is the nickname given to the Oswald Maximum Security State Penitentary. It focuses mainly on Emerald City, an experimental section of the prison where all the cells have glass fronts and face inwards, so privacy is not high on the agenda. Em City is home to many..Aryans, Muslims, gangstas, Latinos, Christians, Italians, Irish and more....so scuffles, death stares, dodgy dealings and shady agreements are never far away.<br /><br />I would say the main appeal of the show is due to the fact that it goes where other shows wouldn't dare. Forget pretty pictures painted for mainstream audiences, forget charm, forget romance...OZ doesn't mess around. The first episode I ever saw struck me as so nasty it was surreal, I couldn't say I was ready for it, but as I watched more, I developed a taste for Oz, and got accustomed to the high levels of graphic violence. Not just violence, but injustice (crooked guards who'll be sold out for a nickel, inmates who'll kill on order and get away with it, well mannered, middle class inmates being turned into prison bitches due to their lack of street skills or prison experience) Watching Oz, you may become comfortable with what is uncomfortable viewing....thats if you can get in touch with your darker side.\n",
      "['reviewer', 'mention', 'watch', 'episode', 'hook', 'right', 'exactly', 'happen', 'first', 'thing', 'strike', 'brutality', 'unflinche', 'scene', 'violence', 'right', 'word', 'trust', 'show', 'faint', 'hearted', 'timid', 'show', 'pull', 'punch', 'regard', 'drug', 'violence', 'hardcore', 'classic', 'word', 'call', 'nickname', 'give', 'oswald', 'maximum', 'security', 'state', 'penitentary', 'focus', 'mainly', 'emerald', 'city', 'experimental', 'section', 'prison', 'cell', 'glass', 'front', 'face', 'inward', 'privacy', 'high', 'agenda', 'city', 'home', 'many', 'aryan', 'muslims', 'gangstas', 'latinos', 'christians', 'italian', 'irish', 'scuffle', 'death', 'star', 'dodgy', 'deal', 'shady', 'agreement', 'never', 'away', 'would', 'main', 'appeal', 'show', 'fact', 'go', 'show', 'dare', 'forget', 'pretty', 'picture', 'paint', 'mainstream', 'audience', 'forget', 'charm', 'forget', 'romance', 'mess', 'around', 'first', 'episode', 'ever', 'strike', 'nasty', 'surreal', 'ready', 'watch', 'develop', 'taste', 'accustom', 'high', 'level', 'graphic', 'violence', 'violence', 'injustice', 'crook', 'guard', 'sell', 'nickel', 'inmate', 'kill', 'order', 'away', 'well', 'mannered', 'middle', 'class', 'inmate', 'turn', 'prison', 'bitch', 'lack', 'street', 'skill', 'prison', 'experience', 'watch', 'become', 'comfortable', 'uncomfortable', 'view', 'that', 's', 'touch', 'dark', 'side']\n"
     ]
    }
   ],
   "source": [
    "ex = df_train['review'].values[0]\n",
    "print(ex)\n",
    "print(clean_text(ex))"
   ]
  },
  {
   "cell_type": "code",
   "execution_count": 10,
   "id": "0bf4317f",
   "metadata": {
    "execution": {
     "iopub.execute_input": "2024-04-09T11:33:23.396448Z",
     "iopub.status.busy": "2024-04-09T11:33:23.395673Z",
     "iopub.status.idle": "2024-04-09T11:52:33.604790Z",
     "shell.execute_reply": "2024-04-09T11:52:33.603803Z"
    },
    "papermill": {
     "duration": 1150.222818,
     "end_time": "2024-04-09T11:52:33.607056",
     "exception": false,
     "start_time": "2024-04-09T11:33:23.384238",
     "status": "completed"
    },
    "tags": []
   },
   "outputs": [
    {
     "name": "stderr",
     "output_type": "stream",
     "text": [
      "100%|██████████| 50000/50000 [19:10<00:00, 43.47it/s]\n"
     ]
    }
   ],
   "source": [
    "from tqdm import tqdm\n",
    "tqdm.pandas()\n",
    "\n",
    "df_train['words'] = df_train['review'].progress_apply(clean_text)"
   ]
  },
  {
   "cell_type": "code",
   "execution_count": 11,
   "id": "af23d22d",
   "metadata": {
    "execution": {
     "iopub.execute_input": "2024-04-09T11:52:35.039486Z",
     "iopub.status.busy": "2024-04-09T11:52:35.038755Z",
     "iopub.status.idle": "2024-04-09T11:52:35.045340Z",
     "shell.execute_reply": "2024-04-09T11:52:35.044454Z"
    },
    "papermill": {
     "duration": 0.720068,
     "end_time": "2024-04-09T11:52:35.047251",
     "exception": false,
     "start_time": "2024-04-09T11:52:34.327183",
     "status": "completed"
    },
    "tags": []
   },
   "outputs": [],
   "source": [
    "from collections import Counter\n",
    "\n",
    "def get_corpus(df):\n",
    "    corpus = []\n",
    "    for i in tqdm(range(len(df))):\n",
    "        corpus.append(df['words'].values[i])\n",
    "    corpus = Counter(np.hstack(corpus))\n",
    "    corpus2 = sorted(corpus, key=corpus.get, reverse=True)\n",
    "    corpus2 = ['<PAK>', '<UNK>'] + corpus2\n",
    "    vocab = {word: idx for idx, word in enumerate(corpus2, 1)}\n",
    "    return corpus, vocab"
   ]
  },
  {
   "cell_type": "code",
   "execution_count": 12,
   "id": "a6a1745d",
   "metadata": {
    "execution": {
     "iopub.execute_input": "2024-04-09T11:52:36.520507Z",
     "iopub.status.busy": "2024-04-09T11:52:36.520121Z",
     "iopub.status.idle": "2024-04-09T11:52:44.402721Z",
     "shell.execute_reply": "2024-04-09T11:52:44.401722Z"
    },
    "papermill": {
     "duration": 8.594904,
     "end_time": "2024-04-09T11:52:44.405244",
     "exception": false,
     "start_time": "2024-04-09T11:52:35.810340",
     "status": "completed"
    },
    "tags": []
   },
   "outputs": [
    {
     "name": "stderr",
     "output_type": "stream",
     "text": [
      "100%|██████████| 50000/50000 [00:00<00:00, 125718.66it/s]\n"
     ]
    }
   ],
   "source": [
    "corpus, vocab = get_corpus(df_train)"
   ]
  },
  {
   "cell_type": "code",
   "execution_count": 13,
   "id": "bf2c2e96",
   "metadata": {
    "execution": {
     "iopub.execute_input": "2024-04-09T11:52:45.907372Z",
     "iopub.status.busy": "2024-04-09T11:52:45.907026Z",
     "iopub.status.idle": "2024-04-09T11:52:45.912162Z",
     "shell.execute_reply": "2024-04-09T11:52:45.911192Z"
    },
    "papermill": {
     "duration": 0.771791,
     "end_time": "2024-04-09T11:52:45.914168",
     "exception": false,
     "start_time": "2024-04-09T11:52:45.142377",
     "status": "completed"
    },
    "tags": []
   },
   "outputs": [],
   "source": [
    "def phrase_to_ints(words):\n",
    "    ints = [vocab.get(word, vocab['<UNK>']) for word in words]\n",
    "    return ints"
   ]
  },
  {
   "cell_type": "code",
   "execution_count": 14,
   "id": "a3f9851a",
   "metadata": {
    "execution": {
     "iopub.execute_input": "2024-04-09T11:52:47.410837Z",
     "iopub.status.busy": "2024-04-09T11:52:47.410469Z",
     "iopub.status.idle": "2024-04-09T11:52:47.419659Z",
     "shell.execute_reply": "2024-04-09T11:52:47.418804Z"
    },
    "papermill": {
     "duration": 0.795151,
     "end_time": "2024-04-09T11:52:47.421646",
     "exception": false,
     "start_time": "2024-04-09T11:52:46.626495",
     "status": "completed"
    },
    "tags": []
   },
   "outputs": [
    {
     "data": {
      "text/plain": [
       "[959,\n",
       " 288,\n",
       " 11,\n",
       " 150,\n",
       " 1395,\n",
       " 96,\n",
       " 466,\n",
       " 91,\n",
       " 27,\n",
       " 33,\n",
       " 887,\n",
       " 4131,\n",
       " 11147,\n",
       " 18,\n",
       " 418,\n",
       " 96,\n",
       " 233,\n",
       " 1190,\n",
       " 17,\n",
       " 4407,\n",
       " 1997,\n",
       " 8590,\n",
       " 17,\n",
       " 499,\n",
       " 1456,\n",
       " 931,\n",
       " 513,\n",
       " 418,\n",
       " 2961,\n",
       " 203,\n",
       " 233,\n",
       " 125,\n",
       " 6118,\n",
       " 29,\n",
       " 10949,\n",
       " 5197,\n",
       " 2019,\n",
       " 423,\n",
       " 37071,\n",
       " 473,\n",
       " 1136,\n",
       " 16270,\n",
       " 362,\n",
       " 3600,\n",
       " 1684,\n",
       " 919,\n",
       " 1676,\n",
       " 1574,\n",
       " 739,\n",
       " 165,\n",
       " 18075,\n",
       " 12255,\n",
       " 146,\n",
       " 3462,\n",
       " 362,\n",
       " 222,\n",
       " 41,\n",
       " 10562,\n",
       " 8472,\n",
       " 32043,\n",
       " 10950,\n",
       " 4132,\n",
       " 786,\n",
       " 1952,\n",
       " 14857,\n",
       " 186,\n",
       " 62,\n",
       " 5512,\n",
       " 307,\n",
       " 6410,\n",
       " 6209,\n",
       " 45,\n",
       " 134,\n",
       " 14,\n",
       " 164,\n",
       " 679,\n",
       " 17,\n",
       " 88,\n",
       " 26,\n",
       " 17,\n",
       " 1316,\n",
       " 330,\n",
       " 89,\n",
       " 220,\n",
       " 884,\n",
       " 1998,\n",
       " 144,\n",
       " 330,\n",
       " 528,\n",
       " 330,\n",
       " 632,\n",
       " 609,\n",
       " 93,\n",
       " 27,\n",
       " 150,\n",
       " 48,\n",
       " 887,\n",
       " 1249,\n",
       " 1775,\n",
       " 1261,\n",
       " 11,\n",
       " 559,\n",
       " 846,\n",
       " 7534,\n",
       " 146,\n",
       " 381,\n",
       " 1125,\n",
       " 418,\n",
       " 418,\n",
       " 4924,\n",
       " 2668,\n",
       " 1506,\n",
       " 774,\n",
       " 15270,\n",
       " 4114,\n",
       " 87,\n",
       " 389,\n",
       " 134,\n",
       " 8,\n",
       " 6358,\n",
       " 484,\n",
       " 472,\n",
       " 4114,\n",
       " 81,\n",
       " 919,\n",
       " 3631,\n",
       " 242,\n",
       " 536,\n",
       " 1057,\n",
       " 919,\n",
       " 280,\n",
       " 11,\n",
       " 82,\n",
       " 2980,\n",
       " 2623,\n",
       " 143,\n",
       " 1274,\n",
       " 939,\n",
       " 372,\n",
       " 304,\n",
       " 290]"
      ]
     },
     "execution_count": 14,
     "metadata": {},
     "output_type": "execute_result"
    }
   ],
   "source": [
    "phrase_to_ints(df_train['words'].values[0])"
   ]
  },
  {
   "cell_type": "code",
   "execution_count": 15,
   "id": "5b899d0c",
   "metadata": {
    "execution": {
     "iopub.execute_input": "2024-04-09T11:52:48.957033Z",
     "iopub.status.busy": "2024-04-09T11:52:48.956685Z",
     "iopub.status.idle": "2024-04-09T11:52:50.876005Z",
     "shell.execute_reply": "2024-04-09T11:52:50.875026Z"
    },
    "papermill": {
     "duration": 2.672828,
     "end_time": "2024-04-09T11:52:50.878083",
     "exception": false,
     "start_time": "2024-04-09T11:52:48.205255",
     "status": "completed"
    },
    "tags": []
   },
   "outputs": [
    {
     "name": "stderr",
     "output_type": "stream",
     "text": [
      "100%|██████████| 50000/50000 [00:01<00:00, 26171.76it/s]\n"
     ]
    }
   ],
   "source": [
    "df_train['ints'] = df_train['words'].progress_apply(phrase_to_ints)"
   ]
  },
  {
   "cell_type": "code",
   "execution_count": 16,
   "id": "2194200b",
   "metadata": {
    "execution": {
     "iopub.execute_input": "2024-04-09T11:52:52.368080Z",
     "iopub.status.busy": "2024-04-09T11:52:52.367709Z",
     "iopub.status.idle": "2024-04-09T11:52:52.780953Z",
     "shell.execute_reply": "2024-04-09T11:52:52.779920Z"
    },
    "papermill": {
     "duration": 1.186197,
     "end_time": "2024-04-09T11:52:52.783273",
     "exception": false,
     "start_time": "2024-04-09T11:52:51.597076",
     "status": "completed"
    },
    "tags": []
   },
   "outputs": [
    {
     "name": "stderr",
     "output_type": "stream",
     "text": [
      "100%|██████████| 50000/50000 [00:00<00:00, 123293.49it/s]\n"
     ]
    }
   ],
   "source": [
    "review_to_ints = []\n",
    "for i in tqdm(range(len(df_train))):\n",
    "    review_to_ints.append(df_train['ints'].values[i])\n"
   ]
  },
  {
   "cell_type": "code",
   "execution_count": 17,
   "id": "cdce7470",
   "metadata": {
    "execution": {
     "iopub.execute_input": "2024-04-09T11:52:54.217507Z",
     "iopub.status.busy": "2024-04-09T11:52:54.217128Z",
     "iopub.status.idle": "2024-04-09T11:52:54.223117Z",
     "shell.execute_reply": "2024-04-09T11:52:54.222244Z"
    },
    "papermill": {
     "duration": 0.727501,
     "end_time": "2024-04-09T11:52:54.225065",
     "exception": false,
     "start_time": "2024-04-09T11:52:53.497564",
     "status": "completed"
    },
    "tags": []
   },
   "outputs": [],
   "source": [
    "def pad_sequences(phrase_to_int, seq_length):\n",
    "    if not isinstance(phrase_to_int[0], list):\n",
    "        phrase_to_int = [phrase_to_int]\n",
    "    pad_sequences = np.zeros((len(phrase_to_int), seq_length), dtype=int)\n",
    "    for idx,row in tqdm(enumerate(phrase_to_int), total=len(phrase_to_int)):\n",
    "        pad_sequences[idx, :len(row)] = np.array(row)[:seq_length]\n",
    "    return pad_sequences"
   ]
  },
  {
   "cell_type": "code",
   "execution_count": 18,
   "id": "b4e47d0a",
   "metadata": {
    "execution": {
     "iopub.execute_input": "2024-04-09T11:52:55.718996Z",
     "iopub.status.busy": "2024-04-09T11:52:55.718138Z",
     "iopub.status.idle": "2024-04-09T11:52:56.397808Z",
     "shell.execute_reply": "2024-04-09T11:52:56.396920Z"
    },
    "papermill": {
     "duration": 1.459253,
     "end_time": "2024-04-09T11:52:56.399892",
     "exception": false,
     "start_time": "2024-04-09T11:52:54.940639",
     "status": "completed"
    },
    "tags": []
   },
   "outputs": [
    {
     "name": "stderr",
     "output_type": "stream",
     "text": [
      "100%|██████████| 50000/50000 [00:00<00:00, 74398.96it/s]\n"
     ]
    }
   ],
   "source": [
    "seq_length = 300\n",
    "padded_sequences = pad_sequences(review_to_ints, seq_length)"
   ]
  },
  {
   "cell_type": "code",
   "execution_count": 19,
   "id": "aae8e57d",
   "metadata": {
    "execution": {
     "iopub.execute_input": "2024-04-09T11:52:57.890802Z",
     "iopub.status.busy": "2024-04-09T11:52:57.889995Z",
     "iopub.status.idle": "2024-04-09T11:52:57.900436Z",
     "shell.execute_reply": "2024-04-09T11:52:57.899621Z"
    },
    "papermill": {
     "duration": 0.785681,
     "end_time": "2024-04-09T11:52:57.902202",
     "exception": false,
     "start_time": "2024-04-09T11:52:57.116521",
     "status": "completed"
    },
    "tags": []
   },
   "outputs": [],
   "source": [
    "labels = df_train['sentiment'].tolist()\n",
    "labels = [1 if label == \"positive\" else 0 for label in labels]"
   ]
  },
  {
   "cell_type": "code",
   "execution_count": 20,
   "id": "a116cc39",
   "metadata": {
    "execution": {
     "iopub.execute_input": "2024-04-09T11:52:59.339980Z",
     "iopub.status.busy": "2024-04-09T11:52:59.339279Z",
     "iopub.status.idle": "2024-04-09T11:52:59.396508Z",
     "shell.execute_reply": "2024-04-09T11:52:59.395709Z"
    },
    "papermill": {
     "duration": 0.778762,
     "end_time": "2024-04-09T11:52:59.398875",
     "exception": false,
     "start_time": "2024-04-09T11:52:58.620113",
     "status": "completed"
    },
    "tags": []
   },
   "outputs": [],
   "source": [
    "from sklearn.model_selection import train_test_split\n",
    "\n",
    "X_train, X_test, y_train, y_test = train_test_split(padded_sequences, labels, test_size=0.2, random_state=42)"
   ]
  },
  {
   "cell_type": "code",
   "execution_count": 21,
   "id": "d2b3b1b2",
   "metadata": {
    "execution": {
     "iopub.execute_input": "2024-04-09T11:53:00.917518Z",
     "iopub.status.busy": "2024-04-09T11:53:00.916815Z",
     "iopub.status.idle": "2024-04-09T11:53:01.073933Z",
     "shell.execute_reply": "2024-04-09T11:53:01.073102Z"
    },
    "papermill": {
     "duration": 0.911236,
     "end_time": "2024-04-09T11:53:01.076258",
     "exception": false,
     "start_time": "2024-04-09T11:53:00.165022",
     "status": "completed"
    },
    "tags": []
   },
   "outputs": [],
   "source": [
    "import torch\n",
    "\n",
    "X_train_tensor = torch.tensor(X_train)\n",
    "y_train_tensor = torch.tensor(y_train)\n",
    "X_val_tensor = torch.tensor(X_test)\n",
    "y_val_tensor = torch.tensor(y_test)"
   ]
  },
  {
   "cell_type": "code",
   "execution_count": 22,
   "id": "310d1ba3",
   "metadata": {
    "execution": {
     "iopub.execute_input": "2024-04-09T11:53:02.569558Z",
     "iopub.status.busy": "2024-04-09T11:53:02.568794Z",
     "iopub.status.idle": "2024-04-09T11:53:02.575913Z",
     "shell.execute_reply": "2024-04-09T11:53:02.575017Z"
    },
    "papermill": {
     "duration": 0.723757,
     "end_time": "2024-04-09T11:53:02.577769",
     "exception": false,
     "start_time": "2024-04-09T11:53:01.854012",
     "status": "completed"
    },
    "tags": []
   },
   "outputs": [],
   "source": [
    "from torch.utils.data import DataLoader, TensorDataset\n",
    "\n",
    "train_data = TensorDataset(X_train_tensor, y_train_tensor)\n",
    "valid_data = TensorDataset(X_val_tensor, y_val_tensor)\n",
    "batch_size = 50\n",
    "train_loader = DataLoader(train_data, batch_size = batch_size, shuffle = True)\n",
    "valid_loader = DataLoader(valid_data, batch_size = batch_size, shuffle = True)"
   ]
  },
  {
   "cell_type": "code",
   "execution_count": 23,
   "id": "27fa722a",
   "metadata": {
    "execution": {
     "iopub.execute_input": "2024-04-09T11:53:04.073990Z",
     "iopub.status.busy": "2024-04-09T11:53:04.073163Z",
     "iopub.status.idle": "2024-04-09T11:53:04.115737Z",
     "shell.execute_reply": "2024-04-09T11:53:04.114680Z"
    },
    "papermill": {
     "duration": 0.817712,
     "end_time": "2024-04-09T11:53:04.117669",
     "exception": false,
     "start_time": "2024-04-09T11:53:03.299957",
     "status": "completed"
    },
    "tags": []
   },
   "outputs": [
    {
     "name": "stdout",
     "output_type": "stream",
     "text": [
      "Sample input size:  torch.Size([50, 300])\n",
      "Sample label size:  torch.Size([50])\n",
      "Sample input: \n",
      " tensor([[  232,   171,   721,  ...,     0,     0,     0],\n",
      "        [   41,    24,    22,  ...,     0,     0,     0],\n",
      "        [   94,   165,  1106,  ...,     0,     0,     0],\n",
      "        ...,\n",
      "        [  194,     4,    74,  ...,     0,     0,     0],\n",
      "        [10942,  1266,     3,  ...,     0,     0,     0],\n",
      "        [    3,   679,   822,  ...,     0,     0,     0]])\n",
      "\n",
      "Data loader size: 800 (train), 200 (val)\n"
     ]
    }
   ],
   "source": [
    "dataiter = iter(train_loader)\n",
    "sample_x, sample_y = dataiter.__next__()\n",
    "\n",
    "print('Sample input size: ', sample_x.size())\n",
    "print('Sample label size: ', sample_y.size())\n",
    "print('Sample input: \\n', sample_x)\n",
    "\n",
    "print(\"\\nData loader size: {} (train), {} (val)\".format(len(train_loader), len(valid_loader)))"
   ]
  },
  {
   "cell_type": "code",
   "execution_count": 24,
   "id": "732e76f5",
   "metadata": {
    "execution": {
     "iopub.execute_input": "2024-04-09T11:53:05.558715Z",
     "iopub.status.busy": "2024-04-09T11:53:05.558337Z",
     "iopub.status.idle": "2024-04-09T11:53:05.563224Z",
     "shell.execute_reply": "2024-04-09T11:53:05.562268Z"
    },
    "papermill": {
     "duration": 0.733114,
     "end_time": "2024-04-09T11:53:05.565677",
     "exception": false,
     "start_time": "2024-04-09T11:53:04.832563",
     "status": "completed"
    },
    "tags": []
   },
   "outputs": [
    {
     "name": "stdout",
     "output_type": "stream",
     "text": [
      "cuda:0\n"
     ]
    }
   ],
   "source": [
    "device = 'cuda:0' if torch.cuda.is_available() else 'cpu'\n",
    "print(device)"
   ]
  },
  {
   "cell_type": "code",
   "execution_count": 25,
   "id": "d4f85e9d",
   "metadata": {
    "execution": {
     "iopub.execute_input": "2024-04-09T11:53:07.096656Z",
     "iopub.status.busy": "2024-04-09T11:53:07.095761Z",
     "iopub.status.idle": "2024-04-09T11:53:07.109333Z",
     "shell.execute_reply": "2024-04-09T11:53:07.108400Z"
    },
    "papermill": {
     "duration": 0.766618,
     "end_time": "2024-04-09T11:53:07.111516",
     "exception": false,
     "start_time": "2024-04-09T11:53:06.344898",
     "status": "completed"
    },
    "tags": []
   },
   "outputs": [],
   "source": [
    "import torch.nn as nn\n",
    "\n",
    "class SentimentRNN(nn.Module):\n",
    "    def __init__(self, vocab_size, output_size, embedding_dim, hidden_dim, n_layers, drop_prob=0.5):\n",
    "        super(SentimentRNN, self).__init__()\n",
    "\n",
    "        self.output_size = output_size\n",
    "        self.n_layers = n_layers\n",
    "        self.hidden_dim = hidden_dim\n",
    "\n",
    "        self.embedding = nn.Embedding(vocab_size, embedding_dim)\n",
    "        self.lstm = nn.LSTM(embedding_dim, hidden_dim, n_layers, dropout=drop_prob, batch_first=True)\n",
    "\n",
    "        self.dropout = nn.Dropout(0.3)\n",
    "\n",
    "        self.fc = nn.Linear(hidden_dim, output_size)\n",
    "        self.sig = nn.Sigmoid()\n",
    "\n",
    "    def forward(self, x, hidden):\n",
    "        batch_size = x.size(0)\n",
    "\n",
    "        embeds = self.embedding(x)\n",
    "        lstm_out, hidden = self.lstm(embeds, hidden)\n",
    "\n",
    "        lstm_out = lstm_out.contiguous().view(-1, self.hidden_dim)\n",
    "\n",
    "        out = self.dropout(lstm_out)\n",
    "        out = self.fc(out)\n",
    "\n",
    "        sig_out = self.sig(out)\n",
    "\n",
    "        sig_out = sig_out.view(batch_size, -1)\n",
    "        sig_out = sig_out[:, -1]\n",
    "\n",
    "        return sig_out, hidden\n",
    "\n",
    "\n",
    "    def init_hidden(self, batch_size):\n",
    "        weight = next(self.parameters()).data\n",
    "        hidden = (weight.new(self.n_layers, batch_size, self.hidden_dim).zero_().to(device),\n",
    "                  weight.new(self.n_layers, batch_size, self.hidden_dim).zero_().to(device))\n",
    "\n",
    "        return hidden"
   ]
  },
  {
   "cell_type": "code",
   "execution_count": 26,
   "id": "8131b24a",
   "metadata": {
    "execution": {
     "iopub.execute_input": "2024-04-09T11:53:08.601323Z",
     "iopub.status.busy": "2024-04-09T11:53:08.600957Z",
     "iopub.status.idle": "2024-04-09T11:53:08.605847Z",
     "shell.execute_reply": "2024-04-09T11:53:08.604899Z"
    },
    "papermill": {
     "duration": 0.777539,
     "end_time": "2024-04-09T11:53:08.607940",
     "exception": false,
     "start_time": "2024-04-09T11:53:07.830401",
     "status": "completed"
    },
    "tags": []
   },
   "outputs": [],
   "source": [
    "n_vocab = len(vocab) + 1\n",
    "n_embed = 400\n",
    "n_hidden = 256\n",
    "n_output = 1\n",
    "n_layers = 2\n",
    "learning_rate = 0.001"
   ]
  },
  {
   "cell_type": "code",
   "execution_count": 27,
   "id": "db73e274",
   "metadata": {
    "execution": {
     "iopub.execute_input": "2024-04-09T11:53:10.104007Z",
     "iopub.status.busy": "2024-04-09T11:53:10.103126Z",
     "iopub.status.idle": "2024-04-09T11:53:10.492606Z",
     "shell.execute_reply": "2024-04-09T11:53:10.490996Z"
    },
    "papermill": {
     "duration": 1.170587,
     "end_time": "2024-04-09T11:53:10.495329",
     "exception": false,
     "start_time": "2024-04-09T11:53:09.324742",
     "status": "completed"
    },
    "tags": []
   },
   "outputs": [
    {
     "name": "stdout",
     "output_type": "stream",
     "text": [
      "SentimentRNN(\n",
      "  (embedding): Embedding(78704, 400)\n",
      "  (lstm): LSTM(400, 256, num_layers=2, batch_first=True, dropout=0.5)\n",
      "  (dropout): Dropout(p=0.3, inplace=False)\n",
      "  (fc): Linear(in_features=256, out_features=1, bias=True)\n",
      "  (sig): Sigmoid()\n",
      ")\n"
     ]
    }
   ],
   "source": [
    "net = SentimentRNN(n_vocab, n_output, n_embed, n_hidden, n_layers)\n",
    "print(net)"
   ]
  },
  {
   "cell_type": "code",
   "execution_count": 28,
   "id": "a1d0b669",
   "metadata": {
    "execution": {
     "iopub.execute_input": "2024-04-09T11:53:11.961751Z",
     "iopub.status.busy": "2024-04-09T11:53:11.961073Z",
     "iopub.status.idle": "2024-04-09T11:53:14.476334Z",
     "shell.execute_reply": "2024-04-09T11:53:14.475557Z"
    },
    "papermill": {
     "duration": 3.235411,
     "end_time": "2024-04-09T11:53:14.478574",
     "exception": false,
     "start_time": "2024-04-09T11:53:11.243163",
     "status": "completed"
    },
    "tags": []
   },
   "outputs": [],
   "source": [
    "criterion = nn.BCELoss()\n",
    "optimizer = torch.optim.Adam(net.parameters(), lr=learning_rate)"
   ]
  },
  {
   "cell_type": "code",
   "execution_count": 1,
   "id": "7ce88e68",
   "metadata": {
    "execution": {
     "iopub.execute_input": "2024-04-09T11:53:15.966098Z",
     "iopub.status.busy": "2024-04-09T11:53:15.965004Z",
     "iopub.status.idle": "2024-04-09T11:53:15.971051Z",
     "shell.execute_reply": "2024-04-09T11:53:15.970094Z"
    },
    "papermill": {
     "duration": 0.727112,
     "end_time": "2024-04-09T11:53:15.973567",
     "exception": false,
     "start_time": "2024-04-09T11:53:15.246455",
     "status": "completed"
    },
    "tags": []
   },
   "outputs": [
    {
     "name": "stdout",
     "output_type": "stream",
     "text": [
      "./dataset/model_090424_191038.pth\n"
     ]
    }
   ],
   "source": [
    "from datetime import datetime\n",
    "\n",
    "now = datetime.now()\n",
    "current_time = now.strftime(\"%d%m%y_%H%M%S\")\n",
    "model_name = \"./dataset/model_{}.pth\".format(current_time)\n",
    "print(model_name)"
   ]
  },
  {
   "cell_type": "code",
   "execution_count": 30,
   "id": "3238456d",
   "metadata": {
    "execution": {
     "iopub.execute_input": "2024-04-09T11:53:17.473589Z",
     "iopub.status.busy": "2024-04-09T11:53:17.473179Z",
     "iopub.status.idle": "2024-04-09T11:53:17.831731Z",
     "shell.execute_reply": "2024-04-09T11:53:17.830854Z"
    },
    "papermill": {
     "duration": 1.091492,
     "end_time": "2024-04-09T11:53:17.833682",
     "exception": false,
     "start_time": "2024-04-09T11:53:16.742190",
     "status": "completed"
    },
    "tags": []
   },
   "outputs": [
    {
     "data": {
      "text/plain": [
       "SentimentRNN(\n",
       "  (embedding): Embedding(78704, 400)\n",
       "  (lstm): LSTM(400, 256, num_layers=2, batch_first=True, dropout=0.5)\n",
       "  (dropout): Dropout(p=0.3, inplace=False)\n",
       "  (fc): Linear(in_features=256, out_features=1, bias=True)\n",
       "  (sig): Sigmoid()\n",
       ")"
      ]
     },
     "execution_count": 30,
     "metadata": {},
     "output_type": "execute_result"
    }
   ],
   "source": [
    "n_epochs = 5\n",
    "eval_every = 100\n",
    "clip = 5\n",
    "min_val_loss = float('inf')\n",
    "\n",
    "train_losses = []\n",
    "valid_losses = []\n",
    "\n",
    "net.to(device)\n",
    "net.train()"
   ]
  },
  {
   "cell_type": "code",
   "execution_count": 31,
   "id": "0bdd7aa4",
   "metadata": {
    "execution": {
     "iopub.execute_input": "2024-04-09T11:53:19.343287Z",
     "iopub.status.busy": "2024-04-09T11:53:19.342925Z",
     "iopub.status.idle": "2024-04-09T12:00:38.776796Z",
     "shell.execute_reply": "2024-04-09T12:00:38.775471Z"
    },
    "papermill": {
     "duration": 440.214988,
     "end_time": "2024-04-09T12:00:38.778854",
     "exception": false,
     "start_time": "2024-04-09T11:53:18.563866",
     "status": "completed"
    },
    "tags": []
   },
   "outputs": [
    {
     "name": "stdout",
     "output_type": "stream",
     "text": [
      "Epoch: 1/5, Step: 100, Loss: 0.717290, Val loss: 0.695000\n",
      "Epoch: 1/5, Step: 200, Loss: 0.700758, Val loss: 0.693200\n",
      "Epoch: 1/5, Step: 300, Loss: 0.686254, Val loss: 0.694294\n",
      "Epoch: 1/5, Step: 400, Loss: 0.691077, Val loss: 0.693044\n",
      "Epoch: 1/5, Step: 500, Loss: 0.682890, Val loss: 0.694290\n",
      "Epoch: 1/5, Step: 600, Loss: 0.690363, Val loss: 0.693210\n",
      "Epoch: 1/5, Step: 700, Loss: 0.688911, Val loss: 0.692873\n",
      "Epoch: 1/5, Step: 800, Loss: 0.685528, Val loss: 0.693016\n",
      "Val loss after epoch 1: 0.693016\n",
      "Validation loss decreased (inf --> 0.693016). Saving model...\n",
      "Epoch: 2/5, Step: 100, Loss: 0.694124, Val loss: 0.694711\n",
      "Epoch: 2/5, Step: 200, Loss: 0.684702, Val loss: 0.709446\n",
      "Epoch: 2/5, Step: 300, Loss: 0.684846, Val loss: 0.695365\n",
      "Epoch: 2/5, Step: 400, Loss: 0.684099, Val loss: 0.696009\n",
      "Epoch: 2/5, Step: 500, Loss: 0.680435, Val loss: 0.695797\n",
      "Epoch: 2/5, Step: 600, Loss: 0.666960, Val loss: 0.686774\n",
      "Epoch: 2/5, Step: 700, Loss: 0.693710, Val loss: 0.693401\n",
      "Epoch: 2/5, Step: 800, Loss: 0.721621, Val loss: 0.697344\n",
      "Val loss after epoch 2: 0.697344\n",
      "Epoch: 3/5, Step: 100, Loss: 0.694712, Val loss: 0.695319\n",
      "Epoch: 3/5, Step: 200, Loss: 0.696620, Val loss: 0.693023\n",
      "Epoch: 3/5, Step: 300, Loss: 0.682080, Val loss: 0.696033\n",
      "Epoch: 3/5, Step: 400, Loss: 0.660410, Val loss: 0.701445\n",
      "Epoch: 3/5, Step: 500, Loss: 0.646014, Val loss: 0.699080\n",
      "Epoch: 3/5, Step: 600, Loss: 0.673060, Val loss: 0.684238\n",
      "Epoch: 3/5, Step: 700, Loss: 0.727282, Val loss: 0.684062\n",
      "Epoch: 3/5, Step: 800, Loss: 0.726758, Val loss: 0.688312\n",
      "Val loss after epoch 3: 0.688312\n",
      "Validation loss decreased (0.693016 --> 0.688312). Saving model...\n",
      "Epoch: 4/5, Step: 100, Loss: 0.682772, Val loss: 0.692607\n",
      "Epoch: 4/5, Step: 200, Loss: 0.644139, Val loss: 0.652696\n",
      "Epoch: 4/5, Step: 300, Loss: 0.542400, Val loss: 0.594260\n",
      "Epoch: 4/5, Step: 400, Loss: 0.574792, Val loss: 0.542486\n",
      "Epoch: 4/5, Step: 500, Loss: 0.551538, Val loss: 0.516076\n",
      "Epoch: 4/5, Step: 600, Loss: 0.403836, Val loss: 0.477587\n",
      "Epoch: 4/5, Step: 700, Loss: 0.410471, Val loss: 0.495874\n",
      "Epoch: 4/5, Step: 800, Loss: 0.523668, Val loss: 0.474775\n",
      "Val loss after epoch 4: 0.474775\n",
      "Validation loss decreased (0.688312 --> 0.474775). Saving model...\n",
      "Epoch: 5/5, Step: 100, Loss: 0.501506, Val loss: 0.466704\n",
      "Epoch: 5/5, Step: 200, Loss: 0.449536, Val loss: 0.426734\n",
      "Epoch: 5/5, Step: 300, Loss: 0.353240, Val loss: 0.426080\n",
      "Epoch: 5/5, Step: 400, Loss: 0.259663, Val loss: 0.467512\n",
      "Epoch: 5/5, Step: 500, Loss: 0.499787, Val loss: 0.407680\n",
      "Epoch: 5/5, Step: 600, Loss: 0.329498, Val loss: 0.400597\n",
      "Epoch: 5/5, Step: 700, Loss: 0.380711, Val loss: 0.384220\n",
      "Epoch: 5/5, Step: 800, Loss: 0.384393, Val loss: 0.373375\n",
      "Val loss after epoch 5: 0.373375\n",
      "Validation loss decreased (0.474775 --> 0.373375). Saving model...\n"
     ]
    }
   ],
   "source": [
    "for e in range(n_epochs):\n",
    "    h = net.init_hidden(batch_size)\n",
    "    \n",
    "    counter = 0\n",
    "    epoch_train_losses = []\n",
    "\n",
    "    for inputs, labels in train_loader:\n",
    "        counter += 1\n",
    "\n",
    "        inputs, labels = inputs.to(device), labels.to(device)\n",
    "        h = tuple([each.data for each in h])\n",
    "\n",
    "        net.zero_grad()\n",
    "\n",
    "        output, h = net(inputs, h)\n",
    "\n",
    "        loss = criterion(output.squeeze(), labels.float())\n",
    "        loss.backward()\n",
    "        nn.utils.clip_grad_norm_(net.parameters(), clip)\n",
    "        optimizer.step()\n",
    "        \n",
    "        train_loss = loss.item()\n",
    "        epoch_train_losses.append(train_loss)\n",
    "\n",
    "        if counter % eval_every == 0:\n",
    "            val_h = net.init_hidden(batch_size)\n",
    "            val_losses = []\n",
    "            val_accuracies = []\n",
    "            \n",
    "            net.eval()\n",
    "            \n",
    "            for inputs, labels in valid_loader:\n",
    "                val_h = tuple([each.data for each in val_h])\n",
    "                inputs, labels = inputs.to(device), labels.to(device)\n",
    "\n",
    "                output, val_h = net(inputs, val_h)\n",
    "                val_loss = criterion(output.squeeze(), labels.float())\n",
    "\n",
    "                val_losses.append(val_loss.item())\n",
    "\n",
    "            mean_val_loss = np.mean(val_losses)\n",
    "            \n",
    "            net.train()\n",
    "            \n",
    "            print(\"Epoch: {}/{},\".format(e+1, n_epochs),\n",
    "                  \"Step: {},\".format(counter),\n",
    "                  \"Loss: {:.6f},\".format(loss.item()),\n",
    "                  \"Val loss: {:.6f}\".format(mean_val_loss))\n",
    "\n",
    "    valid_losses.append(mean_val_loss)\n",
    "    print(\"Val loss after epoch {}: {:.6f}\".format(e+1, mean_val_loss))\n",
    "    \n",
    "    epoch_train_loss = np.mean(epoch_train_losses)\n",
    "    train_losses.append(epoch_train_loss)\n",
    "    \n",
    "    if mean_val_loss < min_val_loss:\n",
    "        print(\"Validation loss decreased ({:.6f} --> {:.6f}). Saving model...\".format(min_val_loss, mean_val_loss))\n",
    "        min_val_loss = mean_val_loss\n",
    "        torch.save(net.state_dict(), model_name)"
   ]
  },
  {
   "cell_type": "code",
   "execution_count": 32,
   "id": "b3197eb2",
   "metadata": {
    "execution": {
     "iopub.execute_input": "2024-04-09T12:00:40.231131Z",
     "iopub.status.busy": "2024-04-09T12:00:40.230246Z",
     "iopub.status.idle": "2024-04-09T12:00:40.577581Z",
     "shell.execute_reply": "2024-04-09T12:00:40.576569Z"
    },
    "papermill": {
     "duration": 1.070334,
     "end_time": "2024-04-09T12:00:40.579631",
     "exception": false,
     "start_time": "2024-04-09T12:00:39.509297",
     "status": "completed"
    },
    "tags": []
   },
   "outputs": [
    {
     "data": {
      "image/png": "[encoded data removed]",
      "text/plain": [
       "<Figure size 640x480 with 1 Axes>"
      ]
     },
     "metadata": {},
     "output_type": "display_data"
    }
   ],
   "source": [
    "epochs = range(1, len(train_losses) + 1)\n",
    "\n",
    "plt.plot(epochs, train_losses, 'b', label='Training loss')\n",
    "plt.plot(epochs, valid_losses, 'r', label='Validation loss')\n",
    "plt.title('Training and Validation Loss')\n",
    "plt.xlabel('Epochs')\n",
    "plt.ylabel('Loss')\n",
    "plt.legend()\n",
    "plt.show()"
   ]
  },
  {
   "cell_type": "code",
   "execution_count": 33,
   "id": "ca5ddbd2",
   "metadata": {
    "execution": {
     "iopub.execute_input": "2024-04-09T12:00:42.085025Z",
     "iopub.status.busy": "2024-04-09T12:00:42.084151Z",
     "iopub.status.idle": "2024-04-09T12:00:42.090623Z",
     "shell.execute_reply": "2024-04-09T12:00:42.089763Z"
    },
    "papermill": {
     "duration": 0.73433,
     "end_time": "2024-04-09T12:00:42.092555",
     "exception": false,
     "start_time": "2024-04-09T12:00:41.358225",
     "status": "completed"
    },
    "tags": []
   },
   "outputs": [],
   "source": [
    "def predict(net, sentence):\n",
    "    words = clean_text(sentence)\n",
    "    text_ints = phrase_to_ints(words)\n",
    "    padded_text = pad_sequences(text_ints, seq_length)\n",
    "    \n",
    "    text_tensor = torch.from_numpy(padded_text)\n",
    "    text_tensor = text_tensor.to(device)\n",
    "    \n",
    "    net.eval()\n",
    "    \n",
    "    batch_size = text_tensor.size(0)\n",
    "    h = net.init_hidden(batch_size)\n",
    "    \n",
    "    output, h = net(text_tensor, h)\n",
    "    pred = torch.round(output.squeeze())\n",
    "    \n",
    "    return output.item(), pred.item()"
   ]
  },
  {
   "cell_type": "code",
   "execution_count": 34,
   "id": "f7239810",
   "metadata": {
    "execution": {
     "iopub.execute_input": "2024-04-09T12:00:43.600243Z",
     "iopub.status.busy": "2024-04-09T12:00:43.599921Z",
     "iopub.status.idle": "2024-04-09T12:00:43.638162Z",
     "shell.execute_reply": "2024-04-09T12:00:43.637106Z"
    },
    "papermill": {
     "duration": 0.771048,
     "end_time": "2024-04-09T12:00:43.640178",
     "exception": false,
     "start_time": "2024-04-09T12:00:42.869130",
     "status": "completed"
    },
    "tags": []
   },
   "outputs": [
    {
     "name": "stderr",
     "output_type": "stream",
     "text": [
      "100%|██████████| 1/1 [00:00<00:00, 8208.03it/s]"
     ]
    },
    {
     "name": "stdout",
     "output_type": "stream",
     "text": [
      "Prediction value: 0.078089\n",
      "Sentiment: negative\n"
     ]
    },
    {
     "name": "stderr",
     "output_type": "stream",
     "text": [
      "\n"
     ]
    }
   ],
   "source": [
    "sentence = 'This movie is very awful!'\n",
    "output, pred = predict(net, sentence)\n",
    "print('Prediction value: {:.6f}'.format(output))\n",
    "if(pred==1):\n",
    "    print('Sentiment: positive')\n",
    "else:\n",
    "    print('Sentiment: negative')"
   ]
  }
 ],
 "metadata": {
  "kaggle": {
   "accelerator": "gpu",
   "dataSources": [
    {
     "datasetId": 134715,
     "sourceId": 320111,
     "sourceType": "datasetVersion"
    }
   ],
   "dockerImageVersionId": 30673,
   "isGpuEnabled": true,
   "isInternetEnabled": true,
   "language": "python",
   "sourceType": "notebook"
  },
  "kernelspec": {
   "display_name": "Python 3",
   "language": "python",
   "name": "python3"
  },
  "language_info": {
   "codemirror_mode": {
    "name": "ipython",
    "version": 3
   },
   "file_extension": ".py",
   "mimetype": "text/x-python",
   "name": "python",
   "nbconvert_exporter": "python",
   "pygments_lexer": "ipython3",
   "version": "3.12.0"
  },
  "papermill": {
   "default_parameters": {},
   "duration": 1664.673341,
   "end_time": "2024-04-09T12:00:47.837134",
   "environment_variables": {},
   "exception": null,
   "input_path": "__notebook__.ipynb",
   "output_path": "__notebook__.ipynb",
   "parameters": {},
   "start_time": "2024-04-09T11:33:03.163793",
   "version": "2.5.0"
  }
 },
 "nbformat": 4,
 "nbformat_minor": 5
}
